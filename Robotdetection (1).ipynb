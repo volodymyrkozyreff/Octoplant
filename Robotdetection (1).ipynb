{
 "cells": [
  {
   "cell_type": "code",
   "execution_count": 1,
   "id": "393b0e72",
   "metadata": {},
   "outputs": [],
   "source": [
    "#импорт библиотек позже будет больше явно \n",
    "import numpy as np\n",
    "import cv2"
   ]
  },
  {
   "cell_type": "code",
   "execution_count": 2,
   "id": "2b1d1b30",
   "metadata": {},
   "outputs": [],
   "source": [
    "car = list()\n",
    "cars = [[0,0], [0,0], [0,0]]"
   ]
  },
  {
   "cell_type": "code",
   "execution_count": null,
   "id": "144343cc",
   "metadata": {},
   "outputs": [],
   "source": []
  },
  {
   "cell_type": "code",
   "execution_count": 3,
   "id": "18ce88e3",
   "metadata": {},
   "outputs": [],
   "source": [
    "# Получаем изображение !!!!!!! позже будет переделано на получение видеопотока с fps=1(возможно больше) !!!!!!\n",
    "font = cv2.FONT_HERSHEY_COMPLEX\n",
    "img2 = cv2.imread('polk.png', cv2.IMREAD_COLOR)"
   ]
  },
  {
   "cell_type": "code",
   "execution_count": 4,
   "id": "67b3d797",
   "metadata": {},
   "outputs": [],
   "source": [
    "# Получили изображение ещё раз для контуров\n",
    "# Перевод в чб для нахождения контуров\n",
    "img = cv2.imread('polk.png', cv2.IMREAD_GRAYSCALE)\n",
    "_, threshold = cv2.threshold(img, 150, 255, cv2.THRESH_BINARY) #!!!!важно ограничения по цветам будут подобраны позже!!!!\n"
   ]
  },
  {
   "cell_type": "code",
   "execution_count": 5,
   "id": "f5adbd10",
   "metadata": {},
   "outputs": [],
   "source": [
    "# Находим контуры\n",
    "contours, _= cv2.findContours(threshold, cv2.RETR_TREE, cv2.CHAIN_APPROX_SIMPLE)"
   ]
  },
  {
   "cell_type": "code",
   "execution_count": 6,
   "id": "03a653c4",
   "metadata": {},
   "outputs": [
    {
     "name": "stdout",
     "output_type": "stream",
     "text": [
      "[250, 423]\n",
      "[250, 423, 590, 225]\n",
      "[250, 423, 590, 225, 927, 425]\n"
     ]
    }
   ],
   "source": [
    "# Пробегаем все контуры\n",
    "for cnt in contours :\n",
    "    approx = cv2.approxPolyDP(cnt, 0.009 * cv2.arcLength(cnt, True), True) #параметры подбираются позже\n",
    "    # Во время пробежкт проверяем на треугольники\n",
    "    if len(approx) == 3:      \n",
    "        cv2.drawContours(img2, [approx], 0, (50, 205, 50), 5) \n",
    "        n = approx.ravel() \n",
    "        i = 0\n",
    "        for j in n :\n",
    "            if(i % 2 == 0):\n",
    "                x = n[i]\n",
    "                y = n[i + 1]\n",
    "\n",
    "                # Координаты пока что в строку !!!  временно позже будет двумерный список но там небольшие проблемы !!!\n",
    "                # для двумерного списка надо отличкать по цветам а этого пока что нет\n",
    "                # Позже передача планируется в двумерном массиве\n",
    "                # Сначала необходимо научиться различать роботов по цветам в общем то и потом там ну в общем достаточно легко\n",
    "                \n",
    "                \n",
    "                string = str(x) + \" \" + str(y) \n",
    "                car.append(int(x))\n",
    "                car.append(int(y))\n",
    "                print(car)\n",
    "\n",
    "                if(i == 0):# выбираем верхнюю координату от неё позже будем вести подсчёт, да не очень но потом там это поправитьcя\n",
    "                    cv2.putText(img2, \"Треугольник\"+string, (x, y),\n",
    "                                    font, 0.5, (0, 0, 0)) \n",
    "                else:\n",
    "                    cv2.putText(img2, string, (x, y),\n",
    "                              font, 0.5, (0, 0, 0)) \n",
    "            i += 1 "
   ]
  },
  {
   "cell_type": "code",
   "execution_count": 7,
   "id": "2f8e19ea",
   "metadata": {},
   "outputs": [
    {
     "name": "stdout",
     "output_type": "stream",
     "text": [
      "[[250, 423], [590, 225], [927, 425]]\n"
     ]
    }
   ],
   "source": [
    "cars[0][0] = car[0]\n",
    "cars[0][1] = car[1]\n",
    "cars[1][0] = car[2]\n",
    "cars[1][1] = car[3]\n",
    "cars[2][0] = car[4]\n",
    "cars[2][1] = car[5]\n",
    "print(cars)"
   ]
  },
  {
   "cell_type": "code",
   "execution_count": 8,
   "id": "23984fd6",
   "metadata": {},
   "outputs": [
    {
     "data": {
      "text/plain": [
       "array([[[255, 255, 255],\n",
       "        [255, 255, 255],\n",
       "        [255, 255, 255],\n",
       "        ...,\n",
       "        [255, 255, 255],\n",
       "        [255, 255, 255],\n",
       "        [255, 255, 255]],\n",
       "\n",
       "       [[255, 255, 255],\n",
       "        [255, 255, 255],\n",
       "        [255, 255, 255],\n",
       "        ...,\n",
       "        [255, 255, 255],\n",
       "        [255, 255, 255],\n",
       "        [255, 255, 255]],\n",
       "\n",
       "       [[255, 255, 255],\n",
       "        [255, 255, 255],\n",
       "        [255, 255, 255],\n",
       "        ...,\n",
       "        [255, 255, 255],\n",
       "        [255, 255, 255],\n",
       "        [255, 255, 255]],\n",
       "\n",
       "       ...,\n",
       "\n",
       "       [[255, 255, 255],\n",
       "        [255, 255, 255],\n",
       "        [255, 255, 255],\n",
       "        ...,\n",
       "        [255, 255, 255],\n",
       "        [255, 255, 255],\n",
       "        [255, 255, 255]],\n",
       "\n",
       "       [[255, 255, 255],\n",
       "        [255, 255, 255],\n",
       "        [255, 255, 255],\n",
       "        ...,\n",
       "        [255, 255, 255],\n",
       "        [255, 255, 255],\n",
       "        [255, 255, 255]],\n",
       "\n",
       "       [[255, 255, 255],\n",
       "        [255, 255, 255],\n",
       "        [255, 255, 255],\n",
       "        ...,\n",
       "        [255, 255, 255],\n",
       "        [255, 255, 255],\n",
       "        [255, 255, 255]]], dtype=uint8)"
      ]
     },
     "execution_count": 8,
     "metadata": {},
     "output_type": "execute_result"
    }
   ],
   "source": [
    "cv2.circle(img2, (589, 324), 10, (0,0,255), -1)"
   ]
  },
  {
   "cell_type": "code",
   "execution_count": 9,
   "id": "cc6dde20",
   "metadata": {},
   "outputs": [],
   "source": [
    "cv2.imshow('image2', img2) # и вуаля какой результат просто изумительно(на самом деле пока не очень)\n",
    "\n",
    "# сначала вывод был с помощью mpl но там очень маленькая картинка и не удобно \n",
    "if cv2.waitKey(0) & 0xFF == ord('q'): \n",
    "    cv2.destroyAllWindows()"
   ]
  },
  {
   "cell_type": "code",
   "execution_count": null,
   "id": "2f96a2c5",
   "metadata": {},
   "outputs": [],
   "source": []
  }
 ],
 "metadata": {
  "kernelspec": {
   "display_name": "Python 3 (ipykernel)",
   "language": "python",
   "name": "python3"
  },
  "language_info": {
   "codemirror_mode": {
    "name": "ipython",
    "version": 3
   },
   "file_extension": ".py",
   "mimetype": "text/x-python",
   "name": "python",
   "nbconvert_exporter": "python",
   "pygments_lexer": "ipython3",
   "version": "3.7.5"
  }
 },
 "nbformat": 4,
 "nbformat_minor": 5
}
