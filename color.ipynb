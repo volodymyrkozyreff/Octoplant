{
 "cells": [
  {
   "cell_type": "code",
   "execution_count": 7,
   "id": "43583eb4",
   "metadata": {},
   "outputs": [
    {
     "name": "stdout",
     "output_type": "stream",
     "text": [
      "237 28 36\n"
     ]
    }
   ],
   "source": [
    "from PIL import Image\n",
    "image = Image.open('redlop.png')\n",
    " \n",
    "w1, h1 = 1, 2 # середина -5\n",
    "w2, h2 = 3, 4 # середина +5\n",
    "rr, gg, bb = 0, 0, 0\n",
    " \n",
    "for x in range(w1, w2):\n",
    "    for y in range(h1, h2):\n",
    "        r, g, b = image.getpixel((x, y))\n",
    "        rr += r\n",
    "        gg += g\n",
    "        bb += b\n",
    " \n",
    "cnt = (w2-w1) * (h2-h1)\n",
    "print(rr//cnt, gg//cnt, bb//cnt)"
   ]
  },
  {
   "cell_type": "code",
   "execution_count": null,
   "id": "d957f79a",
   "metadata": {},
   "outputs": [],
   "source": []
  }
 ],
 "metadata": {
  "kernelspec": {
   "display_name": "Python 3 (ipykernel)",
   "language": "python",
   "name": "python3"
  },
  "language_info": {
   "codemirror_mode": {
    "name": "ipython",
    "version": 3
   },
   "file_extension": ".py",
   "mimetype": "text/x-python",
   "name": "python",
   "nbconvert_exporter": "python",
   "pygments_lexer": "ipython3",
   "version": "3.7.5"
  }
 },
 "nbformat": 4,
 "nbformat_minor": 5
}
