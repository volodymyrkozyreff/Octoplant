{
 "cells": [
  {
   "cell_type": "code",
   "execution_count": 2,
   "id": "93f13068",
   "metadata": {},
   "outputs": [
    {
     "name": "stdout",
     "output_type": "stream",
     "text": [
      "Координаты первой точки в виде (X, Y) через пробел: 250 423\n",
      "Координаты второй точки в виде (X, Y) через пробел: 590 225\n",
      "Координаты третьей точки в виде (X, Y) через пробел: 927 425\n",
      "Площадь треугольника при а, b, c = 393.45139471096047, 391.8788077964921, 677.0029542033033 равна 67362.99999999996\n",
      "677.0029542033033\n",
      "2\n"
     ]
    }
   ],
   "source": [
    "import math\n",
    " \n",
    " \n",
    "def tochka(x1, y1, x2, y2, x3, y3):\n",
    "    a = math.sqrt((x1 - x2) ** 2 + (y1 - y2) ** 2) #3\n",
    "    b = math.sqrt((x2 - x3) ** 2 + (y2 - y3) ** 2) #1\n",
    "    c = math.sqrt((x1 - x3) ** 2 + (y1 - y3) ** 2) #2\n",
    "    return a, b, c\n",
    " \n",
    " \n",
    "def areas(a, b, c):\n",
    "    p = (a + b + c) / 2\n",
    "    return math.sqrt(p * (p - a) * (p - b) * (p - c))\n",
    " \n",
    " \n",
    "def main():\n",
    "    x1, y1= map(float, input('Координаты первой точки в виде (X, Y): ').split(','))\n",
    "    x2, y2= map(float, input('Координаты второй точки в виде (X, Y): ').split(','))\n",
    "    x3, y3= map(float, input('Координаты третьей точки в виде (X, Y): ').split(','))\n",
    " \n",
    "    a, b, c = tochka(x1, y1, x2, y2, x3, y3)\n",
    "    p = areas(a, b, c)\n",
    "    print(f'Площадь треугольника при а, b, c = {a}, {b}, {c} равна {p}')\n",
    "    if max(a, b, c) == a:\n",
    "        print(max(a, b, c))\n",
    "        print(3)\n",
    "    elif max(a, b, c) == b:\n",
    "        print(max(a, b, c))\n",
    "        print(1)\n",
    "    elif max(a, b, c) == c:\n",
    "        print(max(a, b, c))\n",
    "        print(2)\n",
    " \n",
    " \n",
    "main()"
   ]
  },
  {
   "cell_type": "code",
   "execution_count": 6,
   "id": "1ea8aff8",
   "metadata": {},
   "outputs": [
    {
     "name": "stdout",
     "output_type": "stream",
     "text": [
      "589.0 324.5\n"
     ]
    }
   ],
   "source": [
    "x1, y1, x2, y2 = 590, 225, 588, 424\n",
    "ch = (x1 + x2)/2\n",
    "ch1 = (y1 + y2)/2\n",
    "print(ch, ch1)"
   ]
  },
  {
   "cell_type": "code",
   "execution_count": null,
   "id": "b43762bf",
   "metadata": {},
   "outputs": [],
   "source": []
  }
 ],
 "metadata": {
  "kernelspec": {
   "display_name": "Python 3 (ipykernel)",
   "language": "python",
   "name": "python3"
  },
  "language_info": {
   "codemirror_mode": {
    "name": "ipython",
    "version": 3
   },
   "file_extension": ".py",
   "mimetype": "text/x-python",
   "name": "python",
   "nbconvert_exporter": "python",
   "pygments_lexer": "ipython3",
   "version": "3.7.5"
  }
 },
 "nbformat": 4,
 "nbformat_minor": 5
}
