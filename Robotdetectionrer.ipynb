{
 "cells": [
  {
   "cell_type": "code",
   "execution_count": 1,
   "id": "393b0e72",
   "metadata": {},
   "outputs": [],
   "source": [
    "#импорт библиотек позже будет больше явно \n",
    "import numpy as np\n",
    "import cv2"
   ]
  },
  {
   "cell_type": "code",
   "execution_count": 2,
   "id": "2b1d1b30",
   "metadata": {},
   "outputs": [],
   "source": [
    "car = list()\n",
    "cars = [[0,0], [0,0], [0,0]]\n",
    "x10, y10 = 590, 225"
   ]
  },
  {
   "cell_type": "code",
   "execution_count": 3,
   "id": "144343cc",
   "metadata": {},
   "outputs": [],
   "source": [
    "import math\n",
    "\n",
    "def dr(cars):\n",
    "\tax=cars[0][0]\n",
    "\tbx=cars[1][0]\n",
    "\tcx=cars[2][0]\n",
    "\n",
    "\tay=cars[0][1]\n",
    "\tby=cars[1][1]\n",
    "\tcy=cars[2][1]\n",
    "\n",
    "\tax_bx=ax-bx\n",
    "\tbx_cx=bx-cx\n",
    "\tcx_ax=cx-ax\n",
    "\n",
    "\tay_by=ay-by\n",
    "\tby_cy=by-cy\n",
    "\tcy_ay=cy-ay\n",
    "\n",
    "\taxpbx=ax+bx\n",
    "\tbxpcx=bx+cx\n",
    "\tcxpax=cx+ax\n",
    "\n",
    "\taypby=ay+by\n",
    "\tbypcy=by+cy\n",
    "\tcypay=cy+ay\n",
    "\n",
    "\tax_bx=ax_bx**2\n",
    "\tbx_cx=bx_cx**2\n",
    "\tcx_ax=cx_ax**2\n",
    "\n",
    "\tay_by=ay_by**2\n",
    "\tby_cy=by_cy**2\n",
    "\tcy_ay=cy_ay**2\n",
    "\n",
    "\tif (((ax_bx + ay_by) > (bx_cx + by_cy)) and ((ax_bx + ay_by) > (cx_ax + cy_ay))):\n",
    "\t\tdx=axpbx/2\n",
    "\t\tdy=aypby/2\n",
    "\t\tnx=cx\n",
    "\t\tny=cy\n",
    "\n",
    "\tif (((bx_cx + by_cy) > (ax_bx + ay_by)) and ((bx_cx + by_cy) > (cx_ax + cy_ay))):\n",
    "\t\tdx=bxpcx/2\n",
    "\t\tdy=bypcy/2\n",
    "\t\tnx=ax\n",
    "\t\tny=ay\n",
    "\n",
    "\tif (((cx_ax + cy_ay) > (ax_bx + ay_by)) and ((cx_ax + cy_ay) > (bx_cx + by_cy))):\n",
    "\t\tdx=cxpax/2\n",
    "\t\tdy=cypay/2\n",
    "\t\tnx=bx\n",
    "\t\tny=by\n",
    "\n",
    "\t#print(dx)\n",
    "\t#print(dy)\n",
    "\t#print(nx)\n",
    "\t#print(ny)\n",
    "\n",
    "\tnx_dx = nx - dx\n",
    "\tny_dy = ny - dy\n",
    "\n",
    "\t#print(nx_dx)\n",
    "\t#print(ny_dy)\n",
    "\n",
    "\tif (nx_dx == 0 and ny_dy > 0):\n",
    "\t\tgrad=90\n",
    "\telif (nx_dx == 0 and ny_dy < 0):\n",
    "\t\tgrad =-90\n",
    "\telse:\n",
    "\t\tngrad = ny_dy / nx_dx\n",
    "\t\tgrad = math.atan(ngrad)\n",
    "\t\tgrad = grad * 180\n",
    "\t\tgrad = grad / math.pi\n",
    "\n",
    "\tif (nx_dx < 0 and ny_dy > 0):\n",
    "\t\tgrad = 180 + grad\n",
    "\telif (nx_dx < 0 and ny_dy < 0):\n",
    "\t\tgrad = -180 + grad\n",
    "\n",
    "\treturn dx, dy, grad"
   ]
  },
  {
   "cell_type": "code",
   "execution_count": 4,
   "id": "a936604b",
   "metadata": {},
   "outputs": [],
   "source": [
    "def tochka(x1, y1, x2, y2, x3, y3):\n",
    "    a = math.sqrt((x1 - x2) ** 2 + (y1 - y2) ** 2) #3\n",
    "    b = math.sqrt((x2 - x3) ** 2 + (y2 - y3) ** 2) #1\n",
    "    c = math.sqrt((x1 - x3) ** 2 + (y1 - y3) ** 2) #2\n",
    "    return a, b, c\n",
    "\n",
    " \n",
    "def areas(a, b, c):\n",
    "    p = (a + b + c) / 2\n",
    "    return math.sqrt(p * (p - a) * (p - b) * (p - c))\n",
    " \n",
    " \n",
    "def main(x1, y1, x2, y2, x3, y3):\n",
    "    \n",
    " \n",
    "    a, b, c = tochka(x1, y1, x2, y2, x3, y3)\n",
    "    p = areas(a, b, c)\n",
    "    print(f'Площадь треугольника при а, b, c = {a}, {b}, {c} равна {p}')\n",
    "    if max(a, b, c) == a:\n",
    "        print(max(a, b, c))\n",
    "        print(x3, y3)\n",
    "        \n",
    "    elif max(a, b, c) == b:\n",
    "        print(max(a, b, c))\n",
    "        print(x1, y1)\n",
    "        \n",
    "    elif max(a, b, c) == c:\n",
    "        print(max(a, b, c))\n",
    "        print(x2, y2)\n",
    "        "
   ]
  },
  {
   "cell_type": "code",
   "execution_count": 5,
   "id": "18ce88e3",
   "metadata": {},
   "outputs": [],
   "source": [
    "# Получаем изображение !!!!!!! позже будет переделано на получение видеопотока с fps=1(возможно больше) !!!!!!\n",
    "font = cv2.FONT_HERSHEY_COMPLEX\n",
    "img2 = cv2.imread('polk.png', cv2.IMREAD_COLOR)"
   ]
  },
  {
   "cell_type": "code",
   "execution_count": 6,
   "id": "67b3d797",
   "metadata": {},
   "outputs": [],
   "source": [
    "# Получили изображение ещё раз для контуров\n",
    "# Перевод в чб для нахождения контуров\n",
    "img = cv2.imread('polk.png', cv2.IMREAD_GRAYSCALE)\n",
    "_, threshold = cv2.threshold(img, 150, 255, cv2.THRESH_BINARY) #!!!!важно ограничения по цветам будут подобраны позже!!!!\n"
   ]
  },
  {
   "cell_type": "code",
   "execution_count": 7,
   "id": "f5adbd10",
   "metadata": {},
   "outputs": [],
   "source": [
    "# Находим контуры\n",
    "contours, _= cv2.findContours(threshold, cv2.RETR_TREE, cv2.CHAIN_APPROX_SIMPLE)"
   ]
  },
  {
   "cell_type": "code",
   "execution_count": 8,
   "id": "03a653c4",
   "metadata": {},
   "outputs": [
    {
     "name": "stdout",
     "output_type": "stream",
     "text": [
      "[250, 423]\n",
      "[250, 423, 590, 225]\n",
      "[250, 423, 590, 225, 927, 425]\n"
     ]
    }
   ],
   "source": [
    "# Пробегаем все контуры\n",
    "for cnt in contours :\n",
    "    approx = cv2.approxPolyDP(cnt, 0.009 * cv2.arcLength(cnt, True), True) #параметры подбираются позже\n",
    "    # Во время пробежкт проверяем на треугольники\n",
    "    if len(approx) == 3:      \n",
    "        cv2.drawContours(img2, [approx], 0, (50, 205, 50), 5) \n",
    "        n = approx.ravel() \n",
    "        i = 0\n",
    "        for j in n :\n",
    "            if(i % 2 == 0):\n",
    "                x = n[i]\n",
    "                y = n[i + 1]\n",
    "\n",
    "                # Координаты пока что в строку !!!  временно позже будет двумерный список но там небольшие проблемы !!!\n",
    "                # для двумерного списка надо отличкать по цветам а этого пока что нет\n",
    "                # Позже передача планируется в двумерном массиве\n",
    "                # Сначала необходимо научиться различать роботов по цветам в общем то и потом там ну в общем достаточно легко\n",
    "                \n",
    "                \n",
    "                string = str(x) + \" \" + str(y) \n",
    "                car.append(int(x))\n",
    "                car.append(int(y))\n",
    "                print(car)\n",
    "\n",
    "                if(i == 0):# выбираем верхнюю координату от неё позже будем вести подсчёт, да не очень но потом там это поправитьcя\n",
    "                    cv2.putText(img2, \"Треугольник\"+string, (x, y),\n",
    "                                    font, 0.5, (0, 0, 0)) \n",
    "                else:\n",
    "                    cv2.putText(img2, string, (x, y),\n",
    "                              font, 0.5, (0, 0, 0)) \n",
    "            i += 1 "
   ]
  },
  {
   "cell_type": "code",
   "execution_count": 9,
   "id": "2f8e19ea",
   "metadata": {},
   "outputs": [
    {
     "name": "stdout",
     "output_type": "stream",
     "text": [
      "[[250, 423], [590, 225], [927, 425]]\n",
      "(588.5, 424.0, -89.56813044399395)\n",
      "Площадь треугольника при а, b, c = 393.45139471096047, 391.8788077964921, 677.0029542033033 равна 67362.99999999996\n",
      "677.0029542033033\n",
      "590 225\n",
      "None\n",
      "588.5\n",
      "424.0\n",
      "590 225\n",
      "589.25 324.5\n"
     ]
    }
   ],
   "source": [
    "for i in range(len(car)//6):\n",
    "    cars[0][0] = car[0 + i]\n",
    "    cars[0][1] = car[1 + i]\n",
    "    cars[1][0] = car[2 + i]\n",
    "    cars[1][1] = car[3 + i]\n",
    "    cars[2][0] = car[4 + i]\n",
    "    cars[2][1] = car[5 + i]\n",
    "    x1, y1 = car[0 + i], car[1 + i]\n",
    "    x2, y2 = car[2 + i], car[3 + i]\n",
    "    x3, y3 = car[4 + i], car[5 + i]\n",
    "    print(cars)\n",
    "    print(dr(cars))\n",
    "    print(main(x1, y1, x2, y2, x3, y3))\n",
    "    \n",
    "    print(dr(cars)[0])\n",
    "    print(dr(cars)[1])\n",
    "\n",
    "    \n",
    "\n",
    "    x20, y20= dr(cars)[0], dr(cars)[1]\n",
    "    print(x10, y10)\n",
    "    ch = (x10 + x20)/2\n",
    "    ch1 = (y10 + y20)/2\n",
    "    print(ch, ch1) # "
   ]
  },
  {
   "cell_type": "code",
   "execution_count": 10,
   "id": "23984fd6",
   "metadata": {},
   "outputs": [
    {
     "data": {
      "text/plain": [
       "array([[[255, 255, 255],\n",
       "        [255, 255, 255],\n",
       "        [255, 255, 255],\n",
       "        ...,\n",
       "        [255, 255, 255],\n",
       "        [255, 255, 255],\n",
       "        [255, 255, 255]],\n",
       "\n",
       "       [[255, 255, 255],\n",
       "        [255, 255, 255],\n",
       "        [255, 255, 255],\n",
       "        ...,\n",
       "        [255, 255, 255],\n",
       "        [255, 255, 255],\n",
       "        [255, 255, 255]],\n",
       "\n",
       "       [[255, 255, 255],\n",
       "        [255, 255, 255],\n",
       "        [255, 255, 255],\n",
       "        ...,\n",
       "        [255, 255, 255],\n",
       "        [255, 255, 255],\n",
       "        [255, 255, 255]],\n",
       "\n",
       "       ...,\n",
       "\n",
       "       [[255, 255, 255],\n",
       "        [255, 255, 255],\n",
       "        [255, 255, 255],\n",
       "        ...,\n",
       "        [255, 255, 255],\n",
       "        [255, 255, 255],\n",
       "        [255, 255, 255]],\n",
       "\n",
       "       [[255, 255, 255],\n",
       "        [255, 255, 255],\n",
       "        [255, 255, 255],\n",
       "        ...,\n",
       "        [255, 255, 255],\n",
       "        [255, 255, 255],\n",
       "        [255, 255, 255]],\n",
       "\n",
       "       [[255, 255, 255],\n",
       "        [255, 255, 255],\n",
       "        [255, 255, 255],\n",
       "        ...,\n",
       "        [255, 255, 255],\n",
       "        [255, 255, 255],\n",
       "        [255, 255, 255]]], dtype=uint8)"
      ]
     },
     "execution_count": 10,
     "metadata": {},
     "output_type": "execute_result"
    }
   ],
   "source": [
    "cv2.circle(img2, (int(ch), int(ch1)), 10, (0,0,255), -1)"
   ]
  },
  {
   "cell_type": "code",
   "execution_count": 11,
   "id": "a1f79f46",
   "metadata": {},
   "outputs": [
    {
     "name": "stdout",
     "output_type": "stream",
     "text": [
      "34 177 76\n"
     ]
    }
   ],
   "source": [
    "from PIL import Image\n",
    "image = Image.open('polk.png')\n",
    " \n",
    "w1, h1 = int(ch)-5, int(ch1)-5  # середина -5\n",
    "w2, h2 = int(ch)+5, int(ch1)+5 # середина +5\n",
    "rr, gg, bb = 0, 0, 0\n",
    " \n",
    "for x in range(w1, w2):\n",
    "    for y in range(h1, h2):\n",
    "        r, g, b = image.getpixel((x, y))\n",
    "        rr += r\n",
    "        gg += g\n",
    "        bb += b\n",
    " \n",
    "cnt = (w2-w1) * (h2-h1)\n",
    "print(rr//cnt, gg//cnt, bb//cnt)"
   ]
  },
  {
   "cell_type": "code",
   "execution_count": null,
   "id": "cc6dde20",
   "metadata": {},
   "outputs": [],
   "source": [
    "cv2.imshow('image2', img2) # и вуаля какой результат просто изумительно(на самом деле пока не очень)\n",
    "\n",
    "# сначала вывод был с помощью mpl но там очень маленькая картинка и не удобно \n",
    "if cv2.waitKey(0) & 0xFF == ord('q'): \n",
    "    cv2.destroyAllWindows()"
   ]
  },
  {
   "cell_type": "code",
   "execution_count": null,
   "id": "2f96a2c5",
   "metadata": {},
   "outputs": [],
   "source": []
  }
 ],
 "metadata": {
  "kernelspec": {
   "display_name": "Python 3 (ipykernel)",
   "language": "python",
   "name": "python3"
  },
  "language_info": {
   "codemirror_mode": {
    "name": "ipython",
    "version": 3
   },
   "file_extension": ".py",
   "mimetype": "text/x-python",
   "name": "python",
   "nbconvert_exporter": "python",
   "pygments_lexer": "ipython3",
   "version": "3.7.5"
  }
 },
 "nbformat": 4,
 "nbformat_minor": 5
}
