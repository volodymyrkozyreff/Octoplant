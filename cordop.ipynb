{
 "cells": [
  {
   "cell_type": "code",
   "execution_count": 1,
   "id": "b1ca76ad",
   "metadata": {},
   "outputs": [],
   "source": [
    "import math\n",
    "\n",
    "def dr(cars):\n",
    "\tax=cars[0][0]\n",
    "\tbx=cars[1][0]\n",
    "\tcx=cars[2][0]\n",
    "\n",
    "\tay=cars[0][1]\n",
    "\tby=cars[1][1]\n",
    "\tcy=cars[2][1]\n",
    "\n",
    "\tax_bx=ax-bx\n",
    "\tbx_cx=bx-cx\n",
    "\tcx_ax=cx-ax\n",
    "\n",
    "\tay_by=ay-by\n",
    "\tby_cy=by-cy\n",
    "\tcy_ay=cy-ay\n",
    "\n",
    "\taxpbx=ax+bx\n",
    "\tbxpcx=bx+cx\n",
    "\tcxpax=cx+ax\n",
    "\n",
    "\taypby=ay+by\n",
    "\tbypcy=by+cy\n",
    "\tcypay=cy+ay\n",
    "\n",
    "\tax_bx=ax_bx**2\n",
    "\tbx_cx=bx_cx**2\n",
    "\tcx_ax=cx_ax**2\n",
    "\n",
    "\tay_by=ay_by**2\n",
    "\tby_cy=by_cy**2\n",
    "\tcy_ay=cy_ay**2\n",
    "\n",
    "\tif (((ax_bx + ay_by) > (bx_cx + by_cy)) and ((ax_bx + ay_by) > (cx_ax + cy_ay))):\n",
    "\t\tdx=axpbx/2\n",
    "\t\tdy=aypby/2\n",
    "\t\tnx=cx\n",
    "\t\tny=cy\n",
    "\n",
    "\tif (((bx_cx + by_cy) > (ax_bx + ay_by)) and ((bx_cx + by_cy) > (cx_ax + cy_ay))):\n",
    "\t\tdx=bxpcx/2\n",
    "\t\tdy=bypcy/2\n",
    "\t\tnx=ax\n",
    "\t\tny=ay\n",
    "\n",
    "\tif (((cx_ax + cy_ay) > (ax_bx + ay_by)) and ((cx_ax + cy_ay) > (bx_cx + by_cy))):\n",
    "\t\tdx=cxpax/2\n",
    "\t\tdy=cypay/2\n",
    "\t\tnx=bx\n",
    "\t\tny=by\n",
    "\n",
    "\t#print(dx)\n",
    "\t#print(dy)\n",
    "\t#print(nx)\n",
    "\t#print(ny)\n",
    "\n",
    "\tnx_dx = nx - dx\n",
    "\tny_dy = ny - dy\n",
    "\n",
    "\t#print(nx_dx)\n",
    "\t#print(ny_dy)\n",
    "\n",
    "\tif (nx_dx == 0 and ny_dy > 0):\n",
    "\t\tgrad=90\n",
    "\telif (nx_dx == 0 and ny_dy < 0):\n",
    "\t\tgrad =-90\n",
    "\telse:\n",
    "\t\tngrad = ny_dy / nx_dx\n",
    "\t\tgrad = math.atan(ngrad)\n",
    "\t\tgrad = grad * 180\n",
    "\t\tgrad = grad / math.pi\n",
    "\n",
    "\tif (nx_dx < 0 and ny_dy > 0):\n",
    "\t\tgrad = 180 + grad\n",
    "\telif (nx_dx < 0 and ny_dy < 0):\n",
    "\t\tgrad = -180 + grad\n",
    "\n",
    "\treturn dx, dy, grad"
   ]
  },
  {
   "cell_type": "code",
   "execution_count": 2,
   "id": "f3e0f99a",
   "metadata": {},
   "outputs": [],
   "source": [
    "cars = [[250, 423], [590, 225], [927, 425]]"
   ]
  },
  {
   "cell_type": "code",
   "execution_count": 3,
   "id": "f3f07eaf",
   "metadata": {},
   "outputs": [
    {
     "data": {
      "text/plain": [
       "(588.5, 424.0, -89.56813044399395)"
      ]
     },
     "execution_count": 3,
     "metadata": {},
     "output_type": "execute_result"
    }
   ],
   "source": [
    "dr(cars)"
   ]
  },
  {
   "cell_type": "code",
   "execution_count": null,
   "id": "116ba5f6",
   "metadata": {},
   "outputs": [],
   "source": []
  }
 ],
 "metadata": {
  "kernelspec": {
   "display_name": "Python 3 (ipykernel)",
   "language": "python",
   "name": "python3"
  },
  "language_info": {
   "codemirror_mode": {
    "name": "ipython",
    "version": 3
   },
   "file_extension": ".py",
   "mimetype": "text/x-python",
   "name": "python",
   "nbconvert_exporter": "python",
   "pygments_lexer": "ipython3",
   "version": "3.7.5"
  }
 },
 "nbformat": 4,
 "nbformat_minor": 5
}
